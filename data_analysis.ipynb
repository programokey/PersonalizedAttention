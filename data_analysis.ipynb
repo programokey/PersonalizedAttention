{
 "cells": [
  {
   "cell_type": "code",
   "execution_count": 4,
   "metadata": {
    "collapsed": true,
    "pycharm": {
     "is_executing": false
    }
   },
   "outputs": [],
   "source": [
    "import pandas as pd\n",
    "import numpy as np"
   ]
  },
  {
   "cell_type": "code",
   "execution_count": 5,
   "outputs": [],
   "source": [
    "df = pd.read_csv('data/data_format1/user_log_sample.csv')\n",
    "df = df[np.logical_or(df.action_type==1, df.action_type==2)]\n",
    "df.sort_values(by=['user_id', 'time_stamp'], inplace=True)"
   ],
   "metadata": {
    "collapsed": false,
    "pycharm": {
     "name": "#%%\n",
     "is_executing": false
    }
   }
  },
  {
   "cell_type": "code",
   "execution_count": 66,
   "outputs": [
    {
     "name": "stdout",
     "text": [
      "(0,)\n",
      "     user_id  item_id  cat_id  seller_id  brand_id  time_stamp  action_type\n",
      "656        0       74      54         16        57        1111            2\n"
     ],
     "output_type": "stream"
    },
    {
     "name": "stderr",
     "text": [
      "C:\\Users\\limuf\\Anaconda3\\Lib\\site-packages\\ipykernel_launcher.py:13: SettingWithCopyWarning: \n",
      "A value is trying to be set on a copy of a slice from a DataFrame\n",
      "\n",
      "See the caveats in the documentation: http://pandas.pydata.org/pandas-docs/stable/user_guide/indexing.html#returning-a-view-versus-a-copy\n",
      "  del sys.path[0]\n",
      "C:\\Users\\limuf\\Anaconda3\\Lib\\site-packages\\ipykernel_launcher.py:44: SettingWithCopyWarning: \n",
      "A value is trying to be set on a copy of a slice from a DataFrame.\n",
      "Try using .loc[row_indexer,col_indexer] = value instead\n",
      "\n",
      "See the caveats in the documentation: http://pandas.pydata.org/pandas-docs/stable/user_guide/indexing.html#returning-a-view-versus-a-copy\n"
     ],
     "output_type": "stream"
    },
    {
     "data": {
      "text/plain": "<__main__.DatasetGen at 0x1cbfc6b86c8>"
     },
     "metadata": {},
     "output_type": "execute_result",
     "execution_count": 66
    }
   ],
   "source": [
    "import pickle\n",
    "import pandas as pd\n",
    "import numpy as np\n",
    "class DatasetGen:\n",
    "    def __init__(self, log_file='data/data_format1/user_log_sample.csv',\n",
    "                 user_info_file='data/data_format1/user_info_format1.csv',\n",
    "                 dataset_file='data/tmall_dataset.pkl',\n",
    "                 appear_time=10,\n",
    "                 min_length=3):\n",
    "        df = pd.read_csv(log_file)\n",
    "        df.drop_duplicates(inplace=True)\n",
    "        self.df = df[np.logical_or(df.action_type==1, df.action_type==2)]\n",
    "        self.df.sort_values(by=['user_id', 'time_stamp'], inplace=True)\n",
    "        # self.item_buy(appear_time)\n",
    "        self.user_info_df = pd.read_csv(user_info_file)\n",
    "        self.process_user_id()\n",
    "        self.reset_id('user_id')\n",
    "        self.reset_id('item_id')\n",
    "        self.reset_id('cat_id')\n",
    "        self.reset_id('seller_id')\n",
    "        self.reset_id('brand_id')\n",
    "        self.dataset_file = dataset_file\n",
    "        self.training_set = []\n",
    "        self.testing_set = []\n",
    "        self.generate_data_set(min_length)\n",
    "        with open(dataset_file, 'wb') as f:\n",
    "            pickle.dump((self.training_set, \n",
    "                         self.testing_set, \n",
    "                         self.user_info_df), f)\n",
    "    \n",
    "    def item_buy(self, appear_time=10):\n",
    "        count = self.df.groupby(by=['item_id']).item_id.agg('count')\n",
    "        items = set(count[count >= appear_time].index)\n",
    "        self.df = self.df[self.df.item_id.isin(items)]\n",
    "        \n",
    "    def process_user_id(self):\n",
    "        map_dict = {id:i for i, id in enumerate(set(self.df.user_id.values))}\n",
    "        self.df.user_id = self.df.user_id.apply(lambda x:map_dict[x])\n",
    "        self.user_info_df = self.user_info_df[self.user_info_df.user_id.isin(map_dict.keys())]\n",
    "        self.user_info_df['user_id'] = self.user_info_df['user_id'].apply(lambda x: map_dict[x])\n",
    "        \n",
    "    def reset_id(self, column_name):\n",
    "        map_dict = {id:i for i, id in enumerate(set(self.df[column_name].values))}\n",
    "        self.df[column_name] = self.df[column_name].apply(lambda x:map_dict[x])\n",
    "        \n",
    "    def generate_data_set(self, min_length=3):\n",
    "        for group in self.df.groupby('user_id'):\n",
    "            if len(group) < min_length or len(set(group.time_stamp.values)) < 2:\n",
    "                continue\n",
    "            self.training_set.append(group[:-1])\n",
    "            self.testing_set.append(group[-1])\n",
    "DatasetGen()"
   ],
   "metadata": {
    "collapsed": false,
    "pycharm": {
     "name": "#%%\n",
     "is_executing": false
    }
   }
  },
  {
   "cell_type": "code",
   "execution_count": 8,
   "outputs": [],
   "source": [
    "user_map = {id:i for i, id in enumerate(set(df.user_id.values))}\n",
    "tmp_df = df.copy(deep=True)"
   ],
   "metadata": {
    "collapsed": false,
    "pycharm": {
     "name": "#%%\n",
     "is_executing": false
    }
   }
  },
  {
   "cell_type": "code",
   "execution_count": 12,
   "outputs": [],
   "source": [
    "tmp_df.user_id = tmp_df.user_id.apply(lambda x:user_map[x])\n"
   ],
   "metadata": {
    "collapsed": false,
    "pycharm": {
     "name": "#%%\n",
     "is_executing": false
    }
   }
  },
  {
   "cell_type": "code",
   "execution_count": 49,
   "outputs": [
    {
     "name": "stdout",
     "text": [
      "1\n",
      "27\n",
      "     user_id  item_id  cat_id  seller_id  brand_id  time_stamp  action_type\n",
      "799        1  1107286    1272       4540      1878         515            2\n",
      "922        1   749997     898       4950      2946         531            2\n",
      "905        1  1004069     707       4549      8150         625            2\n",
      "906        1  1004069     707       4549      8150         625            2\n",
      "742        1   924565    1147       4939      7455         712            2\n",
      "860        1   980619     563       3930      8473         831            2\n",
      "831        1   853621    1362       1831      7521         911            2\n",
      "974        1  1039510    1401        192      5638         925            2\n",
      "800        1   720483     119       2575      7396        1008            2\n",
      "865        1   990726     600       2792      2431        1011            2\n",
      "740        1   384988    1328       2257      3155        1015            2\n",
      "911        1   524366     970       4137      4139        1025            2\n",
      "915        1  1045969     235        279      5472        1025            2\n",
      "919        1   786682    1389       1828      8104        1030            2\n",
      "920        1   161632     896       4966      3467        1030            2\n",
      "938        1   176050    1085       3614      7210        1030            2\n",
      "925        1   835159     614        399      4950        1101            2\n",
      "817        1   187210    1631        270       397        1104            2\n",
      "882        1   188626     898       4950      2946        1107            2\n",
      "737        1   783801     614       2361      1714        1111            2\n",
      "749        1   899591     898       3716      2946        1111            2\n",
      "751        1   141051     933        270       397        1111            2\n",
      "755        1   318277     664       2361      1714        1111            2\n",
      "756        1   888875    1188       1277      4866        1111            2\n",
      "757        1    40007     662       1340      1981        1111            2\n",
      "user_id              1\n",
      "item_id        1044140\n",
      "cat_id             629\n",
      "seller_id         3845\n",
      "brand_id          3156\n",
      "time_stamp        1111\n",
      "action_type          2\n",
      "Name: 977, dtype: int64\n"
     ],
     "output_type": "stream"
    }
   ],
   "source": [
    "for i, block in tmp_df.groupby('user_id'):\n",
    "    print(len(block))\n",
    "    if len(block) > 1:\n",
    "        print(block.iloc[:-2])\n",
    "        print(block.iloc[-1])\n",
    "        break"
   ],
   "metadata": {
    "collapsed": false,
    "pycharm": {
     "name": "#%%\n",
     "is_executing": false
    }
   }
  },
  {
   "cell_type": "code",
   "execution_count": 21,
   "outputs": [
    {
     "data": {
      "text/plain": "      user_id  item_id  cat_id  seller_id  brand_id  time_stamp  action_type\n1438        3   700662     953       4420      6198         523            2\n1302        3   741961     898       4950      2946         524            2\n1451        3   921856    1577       1663      4874         626            2\n1456        3   490168     662       1663      4874         626            2\n1458        3  1066192     302       1663      4874         626            2\n1308        3   926985    1174        270       397         715            2\n1477        3  1021007    1326       3620      6118         815            2\n1418        3  1014766     180       2375      2470         828            2\n1440        3   720990     812       1849      5577         913            2\n1435        3   452958    1109       2792      2431         925            2",
      "text/html": "<div>\n<style scoped>\n    .dataframe tbody tr th:only-of-type {\n        vertical-align: middle;\n    }\n\n    .dataframe tbody tr th {\n        vertical-align: top;\n    }\n\n    .dataframe thead th {\n        text-align: right;\n    }\n</style>\n<table border=\"1\" class=\"dataframe\">\n  <thead>\n    <tr style=\"text-align: right;\">\n      <th></th>\n      <th>user_id</th>\n      <th>item_id</th>\n      <th>cat_id</th>\n      <th>seller_id</th>\n      <th>brand_id</th>\n      <th>time_stamp</th>\n      <th>action_type</th>\n    </tr>\n  </thead>\n  <tbody>\n    <tr>\n      <td>1438</td>\n      <td>3</td>\n      <td>700662</td>\n      <td>953</td>\n      <td>4420</td>\n      <td>6198</td>\n      <td>523</td>\n      <td>2</td>\n    </tr>\n    <tr>\n      <td>1302</td>\n      <td>3</td>\n      <td>741961</td>\n      <td>898</td>\n      <td>4950</td>\n      <td>2946</td>\n      <td>524</td>\n      <td>2</td>\n    </tr>\n    <tr>\n      <td>1451</td>\n      <td>3</td>\n      <td>921856</td>\n      <td>1577</td>\n      <td>1663</td>\n      <td>4874</td>\n      <td>626</td>\n      <td>2</td>\n    </tr>\n    <tr>\n      <td>1456</td>\n      <td>3</td>\n      <td>490168</td>\n      <td>662</td>\n      <td>1663</td>\n      <td>4874</td>\n      <td>626</td>\n      <td>2</td>\n    </tr>\n    <tr>\n      <td>1458</td>\n      <td>3</td>\n      <td>1066192</td>\n      <td>302</td>\n      <td>1663</td>\n      <td>4874</td>\n      <td>626</td>\n      <td>2</td>\n    </tr>\n    <tr>\n      <td>1308</td>\n      <td>3</td>\n      <td>926985</td>\n      <td>1174</td>\n      <td>270</td>\n      <td>397</td>\n      <td>715</td>\n      <td>2</td>\n    </tr>\n    <tr>\n      <td>1477</td>\n      <td>3</td>\n      <td>1021007</td>\n      <td>1326</td>\n      <td>3620</td>\n      <td>6118</td>\n      <td>815</td>\n      <td>2</td>\n    </tr>\n    <tr>\n      <td>1418</td>\n      <td>3</td>\n      <td>1014766</td>\n      <td>180</td>\n      <td>2375</td>\n      <td>2470</td>\n      <td>828</td>\n      <td>2</td>\n    </tr>\n    <tr>\n      <td>1440</td>\n      <td>3</td>\n      <td>720990</td>\n      <td>812</td>\n      <td>1849</td>\n      <td>5577</td>\n      <td>913</td>\n      <td>2</td>\n    </tr>\n    <tr>\n      <td>1435</td>\n      <td>3</td>\n      <td>452958</td>\n      <td>1109</td>\n      <td>2792</td>\n      <td>2431</td>\n      <td>925</td>\n      <td>2</td>\n    </tr>\n  </tbody>\n</table>\n</div>"
     },
     "metadata": {},
     "output_type": "execute_result",
     "execution_count": 21
    }
   ],
   "source": [
    "tmp_df.head(10)"
   ],
   "metadata": {
    "collapsed": false,
    "pycharm": {
     "name": "#%%\n",
     "is_executing": false
    }
   }
  },
  {
   "cell_type": "code",
   "execution_count": 33,
   "outputs": [
    {
     "data": {
      "text/plain": "item_id\n23858     1\n40007     1\n60221     1\n74158     1\n81766     2\n89484     2\n107194    1\n121940    1\n137298    1\n141051    1\nName: item_id, dtype: int64"
     },
     "metadata": {},
     "output_type": "execute_result",
     "execution_count": 33
    }
   ],
   "source": [
    "count = tmp_df.groupby(by=['item_id']).item_id.agg('count')\n",
    "count.head(10)"
   ],
   "metadata": {
    "collapsed": false,
    "pycharm": {
     "name": "#%%\n",
     "is_executing": false
    }
   }
  },
  {
   "cell_type": "code",
   "execution_count": 38,
   "outputs": [
    {
     "data": {
      "text/plain": "{81766,\n 89484,\n 251929,\n 259853,\n 267067,\n 316514,\n 351303,\n 484676,\n 585039,\n 867263,\n 1004069}"
     },
     "metadata": {},
     "output_type": "execute_result",
     "execution_count": 38
    }
   ],
   "source": [
    "set(count[count>1].index)\n",
    "\n"
   ],
   "metadata": {
    "collapsed": false,
    "pycharm": {
     "name": "#%%\n",
     "is_executing": false
    }
   }
  }
 ],
 "metadata": {
  "kernelspec": {
   "display_name": "Python 3",
   "language": "python",
   "name": "python3"
  },
  "language_info": {
   "codemirror_mode": {
    "name": "ipython",
    "version": 2
   },
   "file_extension": ".py",
   "mimetype": "text/x-python",
   "name": "python",
   "nbconvert_exporter": "python",
   "pygments_lexer": "ipython2",
   "version": "2.7.6"
  },
  "pycharm": {
   "stem_cell": {
    "cell_type": "raw",
    "source": [],
    "metadata": {
     "collapsed": false
    }
   }
  }
 },
 "nbformat": 4,
 "nbformat_minor": 0
}